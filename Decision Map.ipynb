{
 "metadata": {
  "name": ""
 },
 "nbformat": 3,
 "nbformat_minor": 0,
 "worksheets": [
  {
   "cells": [
    {
     "cell_type": "code",
     "collapsed": false,
     "input": [
      "# Loading\n",
      "import matplotlib.pyplot as plt\n",
      "import pandas as pd"
     ],
     "language": "python",
     "metadata": {},
     "outputs": [],
     "prompt_number": 5
    },
    {
     "cell_type": "heading",
     "level": 1,
     "metadata": {},
     "source": [
      "1. User Input"
     ]
    },
    {
     "cell_type": "heading",
     "level": 2,
     "metadata": {},
     "source": [
      "1.1 Import objective function values of Pareto set and base case"
     ]
    },
    {
     "cell_type": "heading",
     "level": 3,
     "metadata": {},
     "source": [
      "Pareto set"
     ]
    },
    {
     "cell_type": "raw",
     "metadata": {},
     "source": [
      "Objective function values"
     ]
    },
    {
     "cell_type": "code",
     "collapsed": false,
     "input": [
      "obj1 = pd.read_pickle(\"data/obj1\")\n",
      "obj2 = pd.read_pickle(\"data/obj2\")\n",
      "obj3 = pd.read_pickle(\"data/obj3\")"
     ],
     "language": "python",
     "metadata": {},
     "outputs": [],
     "prompt_number": 6
    },
    {
     "cell_type": "raw",
     "metadata": {},
     "source": [
      "Import normalised objective functions of Pareto set, where 1 is preferred value, 0 is least preferred"
     ]
    },
    {
     "cell_type": "code",
     "collapsed": false,
     "input": [
      "onenormobj1 = pd.read_pickle(\"data/onenormobj1\")\n",
      "onenormobj2 = pd.read_pickle(\"data/onenormobj2\")\n",
      "onenormobj3 = pd.read_pickle(\"data/onenormobj3\")"
     ],
     "language": "python",
     "metadata": {},
     "outputs": [],
     "prompt_number": 7
    },
    {
     "cell_type": "heading",
     "level": 3,
     "metadata": {},
     "source": [
      "Base case (simulation)"
     ]
    },
    {
     "cell_type": "code",
     "collapsed": false,
     "input": [
      "simobjdf = pd.read_pickle(\"data/simobjdf\")"
     ],
     "language": "python",
     "metadata": {},
     "outputs": [],
     "prompt_number": 8
    },
    {
     "cell_type": "code",
     "collapsed": false,
     "input": [
      "simobj1 = simobjdf.ix[:,0]\n",
      "simobj2 = simobjdf.ix[:,1]\n",
      "simobj3 = simobjdf.ix[:,2]"
     ],
     "language": "python",
     "metadata": {},
     "outputs": [],
     "prompt_number": 9
    },
    {
     "cell_type": "heading",
     "level": 2,
     "metadata": {},
     "source": [
      "1.2 Enter chart axis names"
     ]
    },
    {
     "cell_type": "raw",
     "metadata": {},
     "source": [
      "Objective names for charts\n",
      "(including arrows for direction of preference, right is maximised, left is minimised)"
     ]
    },
    {
     "cell_type": "code",
     "collapsed": false,
     "input": [
      "obj1chartname = 'Minimum Storage (GL)     %s' % u'\\u2192'\n",
      "obj2chartname = '%s    Total Cost ($ million)' % u'\\u2190'\n",
      "obj3chartname = '%s    Total Spill (GL)' % u'\\u2190'"
     ],
     "language": "python",
     "metadata": {},
     "outputs": [],
     "prompt_number": 10
    },
    {
     "cell_type": "heading",
     "level": 2,
     "metadata": {},
     "source": [
      "1.3 Enter tick points for chart (if desired)"
     ]
    },
    {
     "cell_type": "code",
     "collapsed": false,
     "input": [
      "obj1ticks = [150,250,350,450]\n",
      "obj2ticks = [5200,5300,5400,5500]\n",
      "obj3ticks = [350,400,450,500,550,600]"
     ],
     "language": "python",
     "metadata": {},
     "outputs": [],
     "prompt_number": 11
    },
    {
     "cell_type": "heading",
     "level": 1,
     "metadata": {},
     "source": [
      "3. Create decision map matrix of objective performance"
     ]
    },
    {
     "cell_type": "heading",
     "level": 2,
     "metadata": {},
     "source": [
      "3.1 Decision maps of objective function performance of Pareto set and simulation base case"
     ]
    },
    {
     "cell_type": "code",
     "collapsed": false,
     "input": [
      "fig = plt.figure(figsize = [15,15])\n",
      "ax1 = fig.add_subplot(2,2,1)\n",
      "ax1.scatter(obj1, obj2, c = onenormobj3, marker = '.', s = 250, cmap = 'gray')\n",
      "ax1.set_xlabel('%s    %s' % ('(a)', obj1chartname))\n",
      "ax1.set_xticks(obj1ticks)\n",
      "ax1.set_ylabel(obj2chartname)\n",
      "ax1.scatter(simobj1, simobj2, c = 'yellow', marker = 'o', s = 300)\n",
      "\n",
      "ax2 = fig.add_subplot(2,2,2)\n",
      "ax2.scatter(obj1, obj3, c = onenormobj2, marker = '.', s = 250, cmap = 'gray')\n",
      "ax2.set_xlabel('%s    %s' % ('(b)', obj1chartname))\n",
      "ax2.set_xticks(obj1ticks)\n",
      "ax2.set_ylabel(obj3chartname)\n",
      "ax2.scatter(simobj1, simobj3, c = 'yellow', marker = 'o', s = 300)\n",
      "\n",
      "ax3 = fig.add_subplot(2,2,3)\n",
      "ax3.scatter(obj2, obj3, c = onenormobj1, marker = '.', s = 250, cmap = 'gray')\n",
      "ax3.set_xlabel('%s    %s' % ('(c)', obj2chartname))\n",
      "ax3.set_xticks(obj2ticks)\n",
      "ax3.set_ylabel(obj3chartname)\n",
      "ax3.scatter(simobj2, simobj3, c = 'yellow', marker = 'o', s = 300)\n",
      "\n",
      "plt.savefig('Decision Maps/decision maps pareto front simulation.png', dpi = 100, bbox_inches='tight')\n",
      "plt.close(fig)"
     ],
     "language": "python",
     "metadata": {},
     "outputs": [],
     "prompt_number": 12
    }
   ],
   "metadata": {}
  }
 ]
}