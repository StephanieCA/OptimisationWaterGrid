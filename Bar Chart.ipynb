{
 "metadata": {
  "name": ""
 },
 "nbformat": 3,
 "nbformat_minor": 0,
 "worksheets": [
  {
   "cells": [
    {
     "cell_type": "code",
     "collapsed": false,
     "input": [
      "# Loading\n",
      "import matplotlib.pyplot as plt\n",
      "import matplotlib as mpl\n",
      "import pandas as pd\n",
      "import matplotlib.cm as cm"
     ],
     "language": "python",
     "metadata": {},
     "outputs": [],
     "prompt_number": 1
    },
    {
     "cell_type": "heading",
     "level": 1,
     "metadata": {},
     "source": [
      "1 User input"
     ]
    },
    {
     "cell_type": "heading",
     "level": 2,
     "metadata": {},
     "source": [
      "1.1 Input and format selected operating options, simulated with different inflows"
     ]
    },
    {
     "cell_type": "raw",
     "metadata": {},
     "source": [
      "Import objective performance of selected operating options"
     ]
    },
    {
     "cell_type": "code",
     "collapsed": false,
     "input": [
      "# import selected options for plotting on bar plot\n",
      "selectioninfl = pd.read_pickle(\"data/selection inflow scenarios\")"
     ],
     "language": "python",
     "metadata": {},
     "outputs": [],
     "prompt_number": 2
    },
    {
     "cell_type": "raw",
     "metadata": {},
     "source": [
      "Extract base case inflow performance (that used in optimisation), convert units and rename columns"
     ]
    },
    {
     "cell_type": "code",
     "collapsed": false,
     "input": [
      "selectplotdf = pd.DataFrame(selectioninfl.ix[0:8,16:19], copy = True)"
     ],
     "language": "python",
     "metadata": {},
     "outputs": [],
     "prompt_number": 3
    },
    {
     "cell_type": "code",
     "collapsed": false,
     "input": [
      "selectplotdf[\"Total Cost ($ million)\"] = selectplotdf[\"Total Cost ($ million)\"]/10"
     ],
     "language": "python",
     "metadata": {},
     "outputs": [],
     "prompt_number": 4
    },
    {
     "cell_type": "code",
     "collapsed": false,
     "input": [
      "selectplotdf.rename(columns = {\"Total Cost ($ million)\":\"Total Cost ($10 million)\"}, inplace = True)"
     ],
     "language": "python",
     "metadata": {},
     "outputs": [],
     "prompt_number": 5
    },
    {
     "cell_type": "raw",
     "metadata": {},
     "source": [
      "Extract 10th and 90th percentile objective performance for error bars, and convert cost to $10 million"
     ]
    },
    {
     "cell_type": "code",
     "collapsed": false,
     "input": [
      "select10thplotdf = pd.DataFrame(selectioninfl.ix[8:16, 16:19], copy = True)\n",
      "\n",
      "#convert and rename cost\n",
      "select10thplotdf[\"Total Cost ($ million)\"] = select10thplotdf[\"Total Cost ($ million)\"]/10\n",
      "select10thplotdf.rename(columns = {\"Total Cost ($ million)\":\"Total Cost ($10 million)\"}, inplace = True)\n",
      "\n",
      "#replace index: ensure these are the same as selectplotdf\n",
      "select10thplotdf.rename(index = {k:v for k, v in zip(select10thplotdf.index, selectplotdf.index)}, inplace = True)"
     ],
     "language": "python",
     "metadata": {},
     "outputs": [],
     "prompt_number": 6
    },
    {
     "cell_type": "code",
     "collapsed": false,
     "input": [
      "select90thplotdf = pd.DataFrame(selectioninfl.ix[16:24, 16:19], copy = True)\n",
      "\n",
      "#convert and rename cost\n",
      "select90thplotdf[\"Total Cost ($ million)\"] = select90thplotdf[\"Total Cost ($ million)\"]/10\n",
      "select90thplotdf.rename(columns = {\"Total Cost ($ million)\":\"Total Cost ($10 million)\"}, inplace = True)\n",
      "\n",
      "#replace index: ensure these are the same as selectplotdf\n",
      "select90thplotdf.rename(index = {k:v for k, v in zip(select90thplotdf.index, selectplotdf.index)}, inplace = True)"
     ],
     "language": "python",
     "metadata": {},
     "outputs": [],
     "prompt_number": 7
    },
    {
     "cell_type": "heading",
     "level": 2,
     "metadata": {},
     "source": [
      "1.2 Create colormap for objective functions"
     ]
    },
    {
     "cell_type": "code",
     "collapsed": false,
     "input": [
      "colorpool = [\"red\", \"blue\", \"green\"]\n",
      "cmap = mpl.colors.ListedColormap(colorpool, 'objcolors')\n",
      "mpl.cm.register_cmap(name = 'objcolors', cmap = cmap)"
     ],
     "language": "python",
     "metadata": {},
     "outputs": [],
     "prompt_number": 8
    },
    {
     "cell_type": "heading",
     "level": 1,
     "metadata": {},
     "source": [
      "2 Execution"
     ]
    },
    {
     "cell_type": "heading",
     "level": 2,
     "metadata": {},
     "source": [
      "2.1 Bar chart of selected operating options, with range of performance due to inflows"
     ]
    },
    {
     "cell_type": "raw",
     "metadata": {},
     "source": [
      "Plot bar chart of selected options with inflow"
     ]
    },
    {
     "cell_type": "code",
     "collapsed": false,
     "input": [
      "ax = plt.figure(figsize = [10,10]).add_subplot(111)\n",
      "\n",
      "selectplotdf.plot(ax=ax, kind = 'bar', legend = False, colormap = 'objcolors', rot = 45, alpha = 0.5)\n",
      "\n",
      "for i in range(0, len(selectplotdf.columns)):\n",
      "    for j in range(0, len(selectplotdf.index)):\n",
      "        plt.scatter((j*4+1+i+0.5)/4, select10thplotdf.ix[j,i], color = 'black', marker = 'x')\n",
      "        plt.scatter((j*4+1+i+0.5)/4, select90thplotdf.ix[j,i], color = 'black', marker = 'x')\n",
      "        plt.plot([(j*4+1+i+0.5)/4,(j*4+1+i+0.5)/4],[select10thplotdf.ix[j,i],select90thplotdf.ix[j,i]], color = colorpool[i])\n",
      "\n",
      "plt.xticks(ha = 'right')\n",
      "        \n",
      "plt.yticks([0,10,100,1000,5000],[0,10,100,1000,5000])\n",
      "\n",
      "plt.yscale('symlog', basey = 10, linthreshy = max(selectplotdf.ix[:,2]))\n",
      "\n",
      "plt.ylim(0, max(select90thplotdf.ix[:,0])+100)\n",
      "\n",
      "bars = ax.patches\n",
      "hatches = ''.join(h*len(selectplotdf) for h in 'x/0.')\n",
      "\n",
      "for bar, hatch in zip(bars, hatches):\n",
      "    bar.set_hatch(hatch)\n",
      "\n",
      "plt.legend()\n",
      "\n",
      "plt.subplots_adjust(bottom = 0.2, top = 0.9)\n",
      "\n",
      "# save and close figure\n",
      "plt.savefig('Line Diagram and Bar Chart/bar chart selected options.png', dpi = 100, bbox_inches = 'tight')\n",
      "plt.close()"
     ],
     "language": "python",
     "metadata": {},
     "outputs": [],
     "prompt_number": 9
    },
    {
     "cell_type": "code",
     "collapsed": false,
     "input": [],
     "language": "python",
     "metadata": {},
     "outputs": [],
     "prompt_number": 9
    }
   ],
   "metadata": {}
  }
 ]
}