{
 "metadata": {
  "name": ""
 },
 "nbformat": 3,
 "nbformat_minor": 0,
 "worksheets": [
  {
   "cells": [
    {
     "cell_type": "code",
     "collapsed": false,
     "input": [
      "import pandas as pd\n",
      "import matplotlib.pyplot as plt"
     ],
     "language": "python",
     "metadata": {},
     "outputs": [],
     "prompt_number": 1
    },
    {
     "cell_type": "heading",
     "level": 1,
     "metadata": {},
     "source": [
      "1. User input"
     ]
    },
    {
     "cell_type": "heading",
     "level": 2,
     "metadata": {},
     "source": [
      "1.1 Input and format Pareto optimal set"
     ]
    },
    {
     "cell_type": "raw",
     "metadata": {},
     "source": [
      "Input dataframe of decision variables of Pareto set"
     ]
    },
    {
     "cell_type": "code",
     "collapsed": false,
     "input": [
      "dvdf = pd.read_pickle(\"data/dvdf\")"
     ],
     "language": "python",
     "metadata": {},
     "outputs": [],
     "prompt_number": 2
    },
    {
     "cell_type": "heading",
     "level": 2,
     "metadata": {},
     "source": [
      "1.2 Specify tick marks for decision variables for plots"
     ]
    },
    {
     "cell_type": "code",
     "collapsed": false,
     "input": [
      "dvticks = [0,0.2,0.4,0.6,0.8,1.0]"
     ],
     "language": "python",
     "metadata": {},
     "outputs": [],
     "prompt_number": 3
    },
    {
     "cell_type": "heading",
     "level": 1,
     "metadata": {},
     "source": [
      "2. Functions"
     ]
    },
    {
     "cell_type": "heading",
     "level": 2,
     "metadata": {},
     "source": [
      "2.1 Function to determine number of rows and columns of subplots"
     ]
    },
    {
     "cell_type": "raw",
     "metadata": {},
     "source": [
      "Creates a list showing dimensions (rows and columns) of subplots, for a given number of plots. Columns is given the greater of two dimensions, where relevant."
     ]
    },
    {
     "cell_type": "code",
     "collapsed": false,
     "input": [
      "def dimensions(numplots):\n",
      "    cols = int(numplots**0.5) + (numplots % numplots**0.5 > 0) # rounds up the square root of numplots\n",
      "    rows = int(numplots/cols) + (numplots % cols > 0) # rounds up the numplots divided by num cols\n",
      "    return [rows, cols]"
     ],
     "language": "python",
     "metadata": {},
     "outputs": [],
     "prompt_number": 4
    },
    {
     "cell_type": "heading",
     "level": 1,
     "metadata": {},
     "source": [
      "3. Execution"
     ]
    },
    {
     "cell_type": "heading",
     "level": 2,
     "metadata": {},
     "source": [
      "3.1 Plot histograms of values for each decision variable"
     ]
    },
    {
     "cell_type": "raw",
     "metadata": {},
     "source": [
      "Decision variable histograms on multiple plots"
     ]
    },
    {
     "cell_type": "code",
     "collapsed": false,
     "input": [
      "dims = dimensions(len(dvdf.columns))\n",
      "\n",
      "fig = plt.figure(figsize = [dims[1]*5*1.25, dims[0]*5]) \n",
      "    #figsize adjusted for extra wspace between plots to alow for long xlabels\n",
      "\n",
      "for i in range(0, len(dvdf.columns)):\n",
      "    column = dvdf.columns[i]\n",
      "    ax = fig.add_subplot(dims[0], dims[1], i+1)\n",
      "    ax.hist(dvdf[column], bins = 10, range = (0,1.0))\n",
      "    ax.set_xticks(dvticks)\n",
      "    ax.set_xlabel(column)\n",
      "# save and close figure\n",
      "plt.savefig('Histograms/histograms dvs.png', dpi = 150, bbox_inches='tight')\n",
      "plt.close(fig)"
     ],
     "language": "python",
     "metadata": {},
     "outputs": [],
     "prompt_number": 5
    }
   ],
   "metadata": {}
  }
 ]
}